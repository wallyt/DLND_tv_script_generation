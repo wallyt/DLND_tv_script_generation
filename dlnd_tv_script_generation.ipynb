{
 "cells": [
  {
   "cell_type": "markdown",
   "metadata": {},
   "source": [
    "# TV Script Generation\n",
    "In this project, you'll generate your own [Simpsons](https://en.wikipedia.org/wiki/The_Simpsons) TV scripts using RNNs.  You'll be using part of the [Simpsons dataset](https://www.kaggle.com/wcukierski/the-simpsons-by-the-data) of scripts from 27 seasons.  The Neural Network you'll build will generate a new TV script for a scene at [Moe's Tavern](https://simpsonswiki.com/wiki/Moe's_Tavern).\n",
    "## Get the Data\n",
    "The data is already provided for you.  You'll be using a subset of the original dataset.  It consists of only the scenes in Moe's Tavern.  This doesn't include other versions of the tavern, like \"Moe's Cavern\", \"Flaming Moe's\", \"Uncle Moe's Family Feed-Bag\", etc.."
   ]
  },
  {
   "cell_type": "code",
   "execution_count": 24,
   "metadata": {
    "collapsed": true
   },
   "outputs": [],
   "source": [
    "\"\"\"\n",
    "DON'T MODIFY ANYTHING IN THIS CELL\n",
    "\"\"\"\n",
    "import helper\n",
    "\n",
    "data_dir = './data/simpsons/moes_tavern_lines.txt'\n",
    "text = helper.load_data(data_dir)\n",
    "# Ignore notice, since we don't use it for analysing the data\n",
    "text = text[81:]"
   ]
  },
  {
   "cell_type": "markdown",
   "metadata": {},
   "source": [
    "## Explore the Data\n",
    "Play around with `view_sentence_range` to view different parts of the data."
   ]
  },
  {
   "cell_type": "code",
   "execution_count": 25,
   "metadata": {},
   "outputs": [
    {
     "name": "stdout",
     "output_type": "stream",
     "text": [
      "Dataset Stats\n",
      "Roughly the number of unique words: 11492\n",
      "Number of scenes: 262\n",
      "Average number of sentences in each scene: 15.248091603053435\n",
      "Number of lines: 4257\n",
      "Average number of words in each line: 11.50434578341555\n",
      "\n",
      "The sentences 100 to 115:\n",
      "Barney_Gumble: Wow, it really works.\n",
      "HARV: (CHUCKLING) I'll be back.\n",
      "Homer_Simpson: Moe, I haven't seen the place this crowded since the government cracked down on you for accepting food stamps. Do you think my drink had something to do with it?\n",
      "Moe_Szyslak: Who can say? It's probably a combination of things.\n",
      "Patron_#1: (TO MOE) Another pitcher of those amazing \"Flaming Moe's\".\n",
      "Patron_#2: Boy, I hate this joint, but I love that drink.\n",
      "Collette: Barkeep, I couldn't help noticing your sign.\n",
      "Moe_Szyslak: The one that says, \"Bartenders Do It 'Til You Barf\"?\n",
      "Collette: No, above that store-bought drollery.\n",
      "Moe_Szyslak: Oh great! Why don't we fill out an application? (READING) I'll need your name, measurements and turn ons..\n",
      "Collette: You really expect me to tell you my measurements?\n",
      "Moe_Szyslak: You could, but I find this way is much more accurate... and fun.\n",
      "Collette: (DISGUSTED) what do you offer in the way of salary?\n",
      "Moe_Szyslak: Minimum wage and tips. (MEANINGFULLY) Of course there are fringe benefits.\n",
      "Collette: Such as?\n"
     ]
    }
   ],
   "source": [
    "view_sentence_range = (100, 115)\n",
    "\n",
    "\"\"\"\n",
    "DON'T MODIFY ANYTHING IN THIS CELL\n",
    "\"\"\"\n",
    "import numpy as np\n",
    "\n",
    "print('Dataset Stats')\n",
    "print('Roughly the number of unique words: {}'.format(len({word: None for word in text.split()})))\n",
    "scenes = text.split('\\n\\n')\n",
    "print('Number of scenes: {}'.format(len(scenes)))\n",
    "sentence_count_scene = [scene.count('\\n') for scene in scenes]\n",
    "print('Average number of sentences in each scene: {}'.format(np.average(sentence_count_scene)))\n",
    "\n",
    "sentences = [sentence for scene in scenes for sentence in scene.split('\\n')]\n",
    "print('Number of lines: {}'.format(len(sentences)))\n",
    "word_count_sentence = [len(sentence.split()) for sentence in sentences]\n",
    "print('Average number of words in each line: {}'.format(np.average(word_count_sentence)))\n",
    "\n",
    "print()\n",
    "print('The sentences {} to {}:'.format(*view_sentence_range))\n",
    "print('\\n'.join(text.split('\\n')[view_sentence_range[0]:view_sentence_range[1]]))"
   ]
  },
  {
   "cell_type": "markdown",
   "metadata": {},
   "source": [
    "## Implement Preprocessing Functions\n",
    "The first thing to do to any dataset is preprocessing.  Implement the following preprocessing functions below:\n",
    "- Lookup Table\n",
    "- Tokenize Punctuation\n",
    "\n",
    "### Lookup Table\n",
    "To create a word embedding, you first need to transform the words to ids.  In this function, create two dictionaries:\n",
    "- Dictionary to go from the words to an id, we'll call `vocab_to_int`\n",
    "- Dictionary to go from the id to word, we'll call `int_to_vocab`\n",
    "\n",
    "Return these dictionaries in the following tuple `(vocab_to_int, int_to_vocab)`"
   ]
  },
  {
   "cell_type": "code",
   "execution_count": 75,
   "metadata": {},
   "outputs": [
    {
     "name": "stdout",
     "output_type": "stream",
     "text": [
      "Tests Passed\n"
     ]
    }
   ],
   "source": [
    "import numpy as np\n",
    "import problem_unittests as tests\n",
    "from collections import Counter\n",
    "\n",
    "def create_lookup_tables(text):\n",
    "    \"\"\"\n",
    "    Create lookup tables for vocabulary\n",
    "    :param text: The text of tv scripts split into words\n",
    "    :return: A tuple of dicts (vocab_to_int, int_to_vocab)\n",
    "    \"\"\"\n",
    "    # Use set to remove duplicates\n",
    "    #vocab = set(text)\n",
    "    \n",
    "    counts = Counter(text)\n",
    "    sorted_vocab = sorted(counts, key=counts.get, reverse=True)\n",
    "    int_to_vocab = {ii: word for ii, word in enumerate(sorted_vocab)}\n",
    "    vocab_to_int = {word: ii for ii, word in int_to_vocab.items()}\n",
    "    \n",
    "    return (vocab_to_int, int_to_vocab)\n",
    "\n",
    "\n",
    "\"\"\"\n",
    "DON'T MODIFY ANYTHING IN THIS CELL THAT IS BELOW THIS LINE\n",
    "\"\"\"\n",
    "tests.test_create_lookup_tables(create_lookup_tables)"
   ]
  },
  {
   "cell_type": "markdown",
   "metadata": {},
   "source": [
    "### Tokenize Punctuation\n",
    "We'll be splitting the script into a word array using spaces as delimiters.  However, punctuations like periods and exclamation marks make it hard for the neural network to distinguish between the word \"bye\" and \"bye!\".\n",
    "\n",
    "Implement the function `token_lookup` to return a dict that will be used to tokenize symbols like \"!\" into \"||Exclamation_Mark||\".  Create a dictionary for the following symbols where the symbol is the key and value is the token:\n",
    "- Period ( . )\n",
    "- Comma ( , )\n",
    "- Quotation Mark ( \" )\n",
    "- Semicolon ( ; )\n",
    "- Exclamation mark ( ! )\n",
    "- Question mark ( ? )\n",
    "- Left Parentheses ( ( )\n",
    "- Right Parentheses ( ) )\n",
    "- Dash ( -- )\n",
    "- Return ( \\n )\n",
    "\n",
    "This dictionary will be used to token the symbols and add the delimiter (space) around it.  This separates the symbols as it's own word, making it easier for the neural network to predict on the next word. Make sure you don't use a token that could be confused as a word. Instead of using the token \"dash\", try using something like \"||dash||\"."
   ]
  },
  {
   "cell_type": "code",
   "execution_count": 76,
   "metadata": {},
   "outputs": [
    {
     "name": "stdout",
     "output_type": "stream",
     "text": [
      "Tests Passed\n"
     ]
    }
   ],
   "source": [
    "def token_lookup():\n",
    "    \"\"\"\n",
    "    Generate a dict to turn punctuation into a token.\n",
    "    :return: Tokenize dictionary where the key is the punctuation and the value is the token\n",
    "    \"\"\"\n",
    "    \n",
    "    tokens = {'.':  '||Period||',\n",
    "              ',':  '||Comma||',\n",
    "              '\"':  '||Quotation_Mark||',\n",
    "              ';':  '||Semicolon||',\n",
    "              '!':  '||Exclamation_Mark||',\n",
    "              '?':  '||Question_Mark||',\n",
    "              '(':  '||Left_Parens||',\n",
    "              ')':  '||Right_Parens||',\n",
    "              '--': '||Dash||',\n",
    "              '\\n': '||Return||'}\n",
    "    \n",
    "    return tokens\n",
    "\n",
    "\"\"\"\n",
    "DON'T MODIFY ANYTHING IN THIS CELL THAT IS BELOW THIS LINE\n",
    "\"\"\"\n",
    "tests.test_tokenize(token_lookup)"
   ]
  },
  {
   "cell_type": "markdown",
   "metadata": {},
   "source": [
    "## Preprocess all the data and save it\n",
    "Running the code cell below will preprocess all the data and save it to file."
   ]
  },
  {
   "cell_type": "code",
   "execution_count": 77,
   "metadata": {
    "collapsed": true
   },
   "outputs": [],
   "source": [
    "\"\"\"\n",
    "DON'T MODIFY ANYTHING IN THIS CELL\n",
    "\"\"\"\n",
    "# Preprocess Training, Validation, and Testing Data\n",
    "helper.preprocess_and_save_data(data_dir, token_lookup, create_lookup_tables)"
   ]
  },
  {
   "cell_type": "markdown",
   "metadata": {},
   "source": [
    "# Check Point\n",
    "This is your first checkpoint. If you ever decide to come back to this notebook or have to restart the notebook, you can start from here. The preprocessed data has been saved to disk."
   ]
  },
  {
   "cell_type": "code",
   "execution_count": 78,
   "metadata": {
    "collapsed": true
   },
   "outputs": [],
   "source": [
    "\"\"\"\n",
    "DON'T MODIFY ANYTHING IN THIS CELL\n",
    "\"\"\"\n",
    "import helper\n",
    "import numpy as np\n",
    "import problem_unittests as tests\n",
    "\n",
    "int_text, vocab_to_int, int_to_vocab, token_dict = helper.load_preprocess()"
   ]
  },
  {
   "cell_type": "markdown",
   "metadata": {},
   "source": [
    "## Build the Neural Network\n",
    "You'll build the components necessary to build a RNN by implementing the following functions below:\n",
    "- get_inputs\n",
    "- get_init_cell\n",
    "- get_embed\n",
    "- build_rnn\n",
    "- build_nn\n",
    "- get_batches\n",
    "\n",
    "### Check the Version of TensorFlow and Access to GPU"
   ]
  },
  {
   "cell_type": "code",
   "execution_count": 79,
   "metadata": {},
   "outputs": [
    {
     "name": "stdout",
     "output_type": "stream",
     "text": [
      "TensorFlow Version: 1.1.0\n"
     ]
    },
    {
     "name": "stderr",
     "output_type": "stream",
     "text": [
      "/Users/wallythornton/anaconda/lib/python3.6/site-packages/ipykernel_launcher.py:14: UserWarning: No GPU found. Please use a GPU to train your neural network.\n",
      "  \n"
     ]
    }
   ],
   "source": [
    "\"\"\"\n",
    "DON'T MODIFY ANYTHING IN THIS CELL\n",
    "\"\"\"\n",
    "from distutils.version import LooseVersion\n",
    "import warnings\n",
    "import tensorflow as tf\n",
    "\n",
    "# Check TensorFlow Version\n",
    "assert LooseVersion(tf.__version__) >= LooseVersion('1.0'), 'Please use TensorFlow version 1.0 or newer'\n",
    "print('TensorFlow Version: {}'.format(tf.__version__))\n",
    "\n",
    "# Check for a GPU\n",
    "if not tf.test.gpu_device_name():\n",
    "    warnings.warn('No GPU found. Please use a GPU to train your neural network.')\n",
    "else:\n",
    "    print('Default GPU Device: {}'.format(tf.test.gpu_device_name()))"
   ]
  },
  {
   "cell_type": "markdown",
   "metadata": {},
   "source": [
    "### Input\n",
    "Implement the `get_inputs()` function to create TF Placeholders for the Neural Network.  It should create the following placeholders:\n",
    "- Input text placeholder named \"input\" using the [TF Placeholder](https://www.tensorflow.org/api_docs/python/tf/placeholder) `name` parameter.\n",
    "- Targets placeholder\n",
    "- Learning Rate placeholder\n",
    "\n",
    "Return the placeholders in the following tuple `(Input, Targets, LearningRate)`"
   ]
  },
  {
   "cell_type": "code",
   "execution_count": 80,
   "metadata": {},
   "outputs": [
    {
     "name": "stdout",
     "output_type": "stream",
     "text": [
      "Tests Passed\n"
     ]
    }
   ],
   "source": [
    "def get_inputs():\n",
    "    \"\"\"\n",
    "    Create TF Placeholders for input, targets, and learning rate.\n",
    "    :return: Tuple (input, targets, learning rate)\n",
    "    \"\"\"\n",
    "    input_ = tf.placeholder(tf.int32, [None, None], name='input')\n",
    "    targets_ = tf.placeholder(tf.int32, [None, None], name='targets')\n",
    "    learning_rate = tf.placeholder(tf.float32, [], name='learning_rate')\n",
    "    \n",
    "    return (input_, targets_, learning_rate)\n",
    "\n",
    "\n",
    "\"\"\"\n",
    "DON'T MODIFY ANYTHING IN THIS CELL THAT IS BELOW THIS LINE\n",
    "\"\"\"\n",
    "tests.test_get_inputs(get_inputs)"
   ]
  },
  {
   "cell_type": "markdown",
   "metadata": {},
   "source": [
    "### Build RNN Cell and Initialize\n",
    "Stack one or more [`BasicLSTMCells`](https://www.tensorflow.org/api_docs/python/tf/contrib/rnn/BasicLSTMCell) in a [`MultiRNNCell`](https://www.tensorflow.org/api_docs/python/tf/contrib/rnn/MultiRNNCell).\n",
    "- The Rnn size should be set using `rnn_size`\n",
    "- Initalize Cell State using the MultiRNNCell's [`zero_state()`](https://www.tensorflow.org/api_docs/python/tf/contrib/rnn/MultiRNNCell#zero_state) function\n",
    "    - Apply the name \"initial_state\" to the initial state using [`tf.identity()`](https://www.tensorflow.org/api_docs/python/tf/identity)\n",
    "\n",
    "Return the cell and initial state in the following tuple `(Cell, InitialState)`"
   ]
  },
  {
   "cell_type": "code",
   "execution_count": 81,
   "metadata": {},
   "outputs": [
    {
     "name": "stdout",
     "output_type": "stream",
     "text": [
      "Tests Passed\n"
     ]
    }
   ],
   "source": [
    "def get_init_cell(batch_size, rnn_size):\n",
    "    \"\"\"\n",
    "    Create an RNN Cell and initialize it.\n",
    "    :param batch_size: Size of batches\n",
    "    :param rnn_size: Size of RNNs\n",
    "    :return: Tuple (cell, initialize state)\n",
    "    \"\"\"\n",
    "    # Basic LSTM cell\n",
    "    #lstm = tf.contrib.rnn.BasicLSTMCell(rnn_size)\n",
    "    \n",
    "    # Stacking multiple layers\n",
    "    # Have to combine with basic LSTM to overcome Tensorflow version bug\n",
    "    cell = tf.contrib.rnn.MultiRNNCell([tf.contrib.rnn.BasicLSTMCell(rnn_size) for _ in range(3)])\n",
    "    \n",
    "    # Get initial state\n",
    "    initial_state = cell.zero_state(batch_size, tf.float32)\n",
    "    initial_state = tf.identity(initial_state, name='initial_state')\n",
    "    \n",
    "    return (cell, initial_state)\n",
    "\n",
    "\n",
    "\"\"\"\n",
    "DON'T MODIFY ANYTHING IN THIS CELL THAT IS BELOW THIS LINE\n",
    "\"\"\"\n",
    "tests.test_get_init_cell(get_init_cell)"
   ]
  },
  {
   "cell_type": "markdown",
   "metadata": {},
   "source": [
    "### Word Embedding\n",
    "Apply embedding to `input_data` using TensorFlow.  Return the embedded sequence."
   ]
  },
  {
   "cell_type": "code",
   "execution_count": 82,
   "metadata": {},
   "outputs": [
    {
     "name": "stdout",
     "output_type": "stream",
     "text": [
      "Tests Passed\n"
     ]
    }
   ],
   "source": [
    "def get_embed(input_data, vocab_size, embed_dim):\n",
    "    \"\"\"\n",
    "    Create embedding for <input_data>.\n",
    "    :param input_data: TF placeholder for text input.\n",
    "    :param vocab_size: Number of words in vocabulary.\n",
    "    :param embed_dim: Number of embedding dimensions\n",
    "    :return: Embedded input.\n",
    "    \"\"\"\n",
    "    embedding = tf.Variable(tf.truncated_normal([vocab_size, embed_dim], stddev=0.1))\n",
    "    embed = tf.nn.embedding_lookup(embedding, input_data)\n",
    "    \n",
    "    return embed\n",
    "\n",
    "\n",
    "\"\"\"\n",
    "DON'T MODIFY ANYTHING IN THIS CELL THAT IS BELOW THIS LINE\n",
    "\"\"\"\n",
    "tests.test_get_embed(get_embed)"
   ]
  },
  {
   "cell_type": "markdown",
   "metadata": {},
   "source": [
    "### Build RNN\n",
    "You created a RNN Cell in the `get_init_cell()` function.  Time to use the cell to create a RNN.\n",
    "- Build the RNN using the [`tf.nn.dynamic_rnn()`](https://www.tensorflow.org/api_docs/python/tf/nn/dynamic_rnn)\n",
    " - Apply the name \"final_state\" to the final state using [`tf.identity()`](https://www.tensorflow.org/api_docs/python/tf/identity)\n",
    "\n",
    "Return the outputs and final_state state in the following tuple `(Outputs, FinalState)` "
   ]
  },
  {
   "cell_type": "code",
   "execution_count": 83,
   "metadata": {},
   "outputs": [
    {
     "name": "stdout",
     "output_type": "stream",
     "text": [
      "Tests Passed\n"
     ]
    }
   ],
   "source": [
    "def build_rnn(cell, inputs):\n",
    "    \"\"\"\n",
    "    Create a RNN using a RNN Cell\n",
    "    :param cell: RNN Cell\n",
    "    :param inputs: Input text data\n",
    "    :return: Tuple (Outputs, Final State)\n",
    "    \"\"\"\n",
    "    outputs, final_state = tf.nn.dynamic_rnn(cell, inputs, dtype=tf.float32)\n",
    "    \n",
    "    final_state = tf.identity(final_state, name='final_state')\n",
    "    \n",
    "    return (outputs, final_state)\n",
    "\n",
    "\n",
    "\"\"\"\n",
    "DON'T MODIFY ANYTHING IN THIS CELL THAT IS BELOW THIS LINE\n",
    "\"\"\"\n",
    "tests.test_build_rnn(build_rnn)"
   ]
  },
  {
   "cell_type": "markdown",
   "metadata": {},
   "source": [
    "### Build the Neural Network\n",
    "Apply the functions you implemented above to:\n",
    "- Apply embedding to `input_data` using your `get_embed(input_data, vocab_size, embed_dim)` function.\n",
    "- Build RNN using `cell` and your `build_rnn(cell, inputs)` function.\n",
    "- Apply a fully connected layer with a linear activation and `vocab_size` as the number of outputs.\n",
    "\n",
    "Return the logits and final state in the following tuple (Logits, FinalState) "
   ]
  },
  {
   "cell_type": "code",
   "execution_count": 84,
   "metadata": {},
   "outputs": [
    {
     "name": "stdout",
     "output_type": "stream",
     "text": [
      "Tests Passed\n"
     ]
    }
   ],
   "source": [
    "def build_nn(cell, rnn_size, input_data, vocab_size, embed_dim):\n",
    "    \"\"\"\n",
    "    Build part of the neural network\n",
    "    :param cell: RNN cell\n",
    "    :param rnn_size: Size of rnns\n",
    "    :param input_data: Input data\n",
    "    :param vocab_size: Vocabulary size\n",
    "    :param embed_dim: Number of embedding dimensions\n",
    "    :return: Tuple (Logits, FinalState)\n",
    "    \"\"\"\n",
    "    # Apply embedding to input data\n",
    "    embed = get_embed(input_data, vocab_size, embed_dim)\n",
    "    \n",
    "    # Build the RNN\n",
    "    outputs, final_state = build_rnn(cell, embed)\n",
    "    \n",
    "    # Fully connected layer\n",
    "    logits = tf.contrib.layers.fully_connected(outputs, vocab_size, \n",
    "                                               activation_fn=None, \n",
    "                                               weights_initializer=tf.truncated_normal_initializer(stddev=0.1), \n",
    "                                               biases_initializer=tf.zeros_initializer())\n",
    "    \n",
    "    return (logits, final_state)\n",
    "\n",
    "\n",
    "\"\"\"\n",
    "DON'T MODIFY ANYTHING IN THIS CELL THAT IS BELOW THIS LINE\n",
    "\"\"\"\n",
    "tests.test_build_nn(build_nn)"
   ]
  },
  {
   "cell_type": "markdown",
   "metadata": {},
   "source": [
    "### Batches\n",
    "Implement `get_batches` to create batches of input and targets using `int_text`.  The batches should be a Numpy array with the shape `(number of batches, 2, batch size, sequence length)`. Each batch contains two elements:\n",
    "- The first element is a single batch of **input** with the shape `[batch size, sequence length]`\n",
    "- The second element is a single batch of **targets** with the shape `[batch size, sequence length]`\n",
    "\n",
    "If you can't fill the last batch with enough data, drop the last batch.\n",
    "\n",
    "For example, `get_batches([1, 2, 3, 4, 5, 6, 7, 8, 9, 10, 11, 12, 13, 14, 15, 16, 17, 18, 19, 20], 3, 2)` would return a Numpy array of the following:\n",
    "```\n",
    "[\n",
    "  # First Batch\n",
    "  [\n",
    "    # Batch of Input\n",
    "    [[ 1  2], [ 7  8], [13 14]]\n",
    "    # Batch of targets\n",
    "    [[ 2  3], [ 8  9], [14 15]]\n",
    "  ]\n",
    "\n",
    "  # Second Batch\n",
    "  [\n",
    "    # Batch of Input\n",
    "    [[ 3  4], [ 9 10], [15 16]]\n",
    "    # Batch of targets\n",
    "    [[ 4  5], [10 11], [16 17]]\n",
    "  ]\n",
    "\n",
    "  # Third Batch\n",
    "  [\n",
    "    # Batch of Input\n",
    "    [[ 5  6], [11 12], [17 18]]\n",
    "    # Batch of targets\n",
    "    [[ 6  7], [12 13], [18  1]]\n",
    "  ]\n",
    "]\n",
    "```\n",
    "\n",
    "Notice that the last target value in the last batch is the first input value of the first batch. In this case, `1`. This is a common technique used when creating sequence batches, although it is rather unintuitive."
   ]
  },
  {
   "cell_type": "code",
   "execution_count": 85,
   "metadata": {},
   "outputs": [
    {
     "name": "stdout",
     "output_type": "stream",
     "text": [
      "Tests Passed\n"
     ]
    }
   ],
   "source": [
    "def get_batches(int_text, batch_size, seq_length):\n",
    "    \"\"\"\n",
    "    Return batches of input and target\n",
    "    :param int_text: Text with the words replaced by their ids\n",
    "    :param batch_size: The size of batch\n",
    "    :param seq_length: The length of sequence\n",
    "    :return: Batches as a Numpy array\n",
    "    \"\"\"\n",
    "    n_batches = int(len(int_text) / (batch_size * seq_length))\n",
    "    \n",
    "    # Only full batches\n",
    "    xdata = np.array(int_text[: n_batches * batch_size * seq_length])\n",
    "    ydata = np.array(int_text[1: n_batches * batch_size * seq_length + 1])\n",
    "    \n",
    "    # Make it so the last target value is the first input value of the first batch\n",
    "    ydata[-1] = xdata[0]\n",
    "    \n",
    "    # Build batches\n",
    "    x_batches = np.split(xdata.reshape(batch_size, -1), n_batches, 1)\n",
    "    y_batches = np.split(ydata.reshape(batch_size, -1), n_batches, 1)\n",
    "\n",
    "    return np.array(list(zip(x_batches, y_batches)))\n",
    "\n",
    "\"\"\"\n",
    "DON'T MODIFY ANYTHING IN THIS CELL THAT IS BELOW THIS LINE\n",
    "\"\"\"\n",
    "tests.test_get_batches(get_batches)"
   ]
  },
  {
   "cell_type": "markdown",
   "metadata": {},
   "source": [
    "## Neural Network Training\n",
    "### Hyperparameters\n",
    "Tune the following parameters:\n",
    "\n",
    "- Set `num_epochs` to the number of epochs.\n",
    "- Set `batch_size` to the batch size.\n",
    "- Set `rnn_size` to the size of the RNNs.\n",
    "- Set `embed_dim` to the size of the embedding.\n",
    "- Set `seq_length` to the length of sequence.\n",
    "- Set `learning_rate` to the learning rate.\n",
    "- Set `show_every_n_batches` to the number of batches the neural network should print progress."
   ]
  },
  {
   "cell_type": "code",
   "execution_count": 111,
   "metadata": {
    "collapsed": true
   },
   "outputs": [],
   "source": [
    "# Number of Epochs\n",
    "num_epochs = 150\n",
    "# Batch Size\n",
    "batch_size = 512\n",
    "# RNN Size\n",
    "rnn_size = 256\n",
    "# Embedding Dimension Size\n",
    "embed_dim = 256\n",
    "# Sequence Length\n",
    "seq_length = 15\n",
    "# Learning Rate\n",
    "learning_rate = 0.01\n",
    "# Show stats for every n number of batches\n",
    "show_every_n_batches = 35\n",
    "\n",
    "\"\"\"\n",
    "DON'T MODIFY ANYTHING IN THIS CELL THAT IS BELOW THIS LINE\n",
    "\"\"\"\n",
    "save_dir = './save'"
   ]
  },
  {
   "cell_type": "markdown",
   "metadata": {},
   "source": [
    "### Build the Graph\n",
    "Build the graph using the neural network you implemented."
   ]
  },
  {
   "cell_type": "code",
   "execution_count": 112,
   "metadata": {
    "collapsed": true
   },
   "outputs": [],
   "source": [
    "\"\"\"\n",
    "DON'T MODIFY ANYTHING IN THIS CELL\n",
    "\"\"\"\n",
    "from tensorflow.contrib import seq2seq\n",
    "\n",
    "train_graph = tf.Graph()\n",
    "with train_graph.as_default():\n",
    "    vocab_size = len(int_to_vocab)\n",
    "    input_text, targets, lr = get_inputs()\n",
    "    input_data_shape = tf.shape(input_text)\n",
    "    cell, initial_state = get_init_cell(input_data_shape[0], rnn_size)\n",
    "    logits, final_state = build_nn(cell, rnn_size, input_text, vocab_size, embed_dim)\n",
    "\n",
    "    # Probabilities for generating words\n",
    "    probs = tf.nn.softmax(logits, name='probs')\n",
    "\n",
    "    # Loss function\n",
    "    cost = seq2seq.sequence_loss(\n",
    "        logits,\n",
    "        targets,\n",
    "        tf.ones([input_data_shape[0], input_data_shape[1]]))\n",
    "\n",
    "    # Optimizer\n",
    "    optimizer = tf.train.AdamOptimizer(lr)\n",
    "\n",
    "    # Gradient Clipping\n",
    "    gradients = optimizer.compute_gradients(cost)\n",
    "    capped_gradients = [(tf.clip_by_value(grad, -1., 1.), var) for grad, var in gradients if grad is not None]\n",
    "    train_op = optimizer.apply_gradients(capped_gradients)"
   ]
  },
  {
   "cell_type": "markdown",
   "metadata": {},
   "source": [
    "## Train\n",
    "Train the neural network on the preprocessed data.  If you have a hard time getting a good loss, check the [forms](https://discussions.udacity.com/) to see if anyone is having the same problem."
   ]
  },
  {
   "cell_type": "code",
   "execution_count": 113,
   "metadata": {},
   "outputs": [
    {
     "name": "stdout",
     "output_type": "stream",
     "text": [
      "Epoch   0 Batch    0/35   train_loss = 8.822\n",
      "Epoch   0 Batch   25/35   train_loss = 6.183\n",
      "Epoch   1 Batch   15/35   train_loss = 6.108\n",
      "Epoch   2 Batch    5/35   train_loss = 6.018\n",
      "Epoch   2 Batch   30/35   train_loss = 5.879\n",
      "Epoch   3 Batch   20/35   train_loss = 5.803\n",
      "Epoch   4 Batch   10/35   train_loss = 5.650\n",
      "Epoch   5 Batch    0/35   train_loss = 5.452\n",
      "Epoch   5 Batch   25/35   train_loss = 5.218\n",
      "Epoch   6 Batch   15/35   train_loss = 5.319\n",
      "Epoch   7 Batch    5/35   train_loss = 5.119\n",
      "Epoch   7 Batch   30/35   train_loss = 5.072\n",
      "Epoch   8 Batch   20/35   train_loss = 5.123\n",
      "Epoch   9 Batch   10/35   train_loss = 5.094\n",
      "Epoch  10 Batch    0/35   train_loss = 4.971\n",
      "Epoch  10 Batch   25/35   train_loss = 4.784\n",
      "Epoch  11 Batch   15/35   train_loss = 4.909\n",
      "Epoch  12 Batch    5/35   train_loss = 4.788\n",
      "Epoch  12 Batch   30/35   train_loss = 4.726\n",
      "Epoch  13 Batch   20/35   train_loss = 4.741\n",
      "Epoch  14 Batch   10/35   train_loss = 4.812\n",
      "Epoch  15 Batch    0/35   train_loss = 4.682\n",
      "Epoch  15 Batch   25/35   train_loss = 4.494\n",
      "Epoch  16 Batch   15/35   train_loss = 4.648\n",
      "Epoch  17 Batch    5/35   train_loss = 4.507\n",
      "Epoch  17 Batch   30/35   train_loss = 4.523\n",
      "Epoch  18 Batch   20/35   train_loss = 4.484\n",
      "Epoch  19 Batch   10/35   train_loss = 4.548\n",
      "Epoch  20 Batch    0/35   train_loss = 4.389\n",
      "Epoch  20 Batch   25/35   train_loss = 4.205\n",
      "Epoch  21 Batch   15/35   train_loss = 4.460\n",
      "Epoch  22 Batch    5/35   train_loss = 4.309\n",
      "Epoch  22 Batch   30/35   train_loss = 4.223\n",
      "Epoch  23 Batch   20/35   train_loss = 4.213\n",
      "Epoch  24 Batch   10/35   train_loss = 4.254\n",
      "Epoch  25 Batch    0/35   train_loss = 4.087\n",
      "Epoch  25 Batch   25/35   train_loss = 3.966\n",
      "Epoch  26 Batch   15/35   train_loss = 4.122\n",
      "Epoch  27 Batch    5/35   train_loss = 4.005\n",
      "Epoch  27 Batch   30/35   train_loss = 3.968\n",
      "Epoch  28 Batch   20/35   train_loss = 3.945\n",
      "Epoch  29 Batch   10/35   train_loss = 4.008\n",
      "Epoch  30 Batch    0/35   train_loss = 3.844\n",
      "Epoch  30 Batch   25/35   train_loss = 3.788\n",
      "Epoch  31 Batch   15/35   train_loss = 3.890\n",
      "Epoch  32 Batch    5/35   train_loss = 3.808\n",
      "Epoch  32 Batch   30/35   train_loss = 3.690\n",
      "Epoch  33 Batch   20/35   train_loss = 3.676\n",
      "Epoch  34 Batch   10/35   train_loss = 3.639\n",
      "Epoch  35 Batch    0/35   train_loss = 3.529\n",
      "Epoch  35 Batch   25/35   train_loss = 3.468\n",
      "Epoch  36 Batch   15/35   train_loss = 3.549\n",
      "Epoch  37 Batch    5/35   train_loss = 3.506\n",
      "Epoch  37 Batch   30/35   train_loss = 3.417\n",
      "Epoch  38 Batch   20/35   train_loss = 3.370\n",
      "Epoch  39 Batch   10/35   train_loss = 3.311\n",
      "Epoch  40 Batch    0/35   train_loss = 3.221\n",
      "Epoch  40 Batch   25/35   train_loss = 3.166\n",
      "Epoch  41 Batch   15/35   train_loss = 3.282\n",
      "Epoch  42 Batch    5/35   train_loss = 3.201\n",
      "Epoch  42 Batch   30/35   train_loss = 3.135\n",
      "Epoch  43 Batch   20/35   train_loss = 3.115\n",
      "Epoch  44 Batch   10/35   train_loss = 3.088\n",
      "Epoch  45 Batch    0/35   train_loss = 3.062\n",
      "Epoch  45 Batch   25/35   train_loss = 3.122\n",
      "Epoch  46 Batch   15/35   train_loss = 3.011\n",
      "Epoch  47 Batch    5/35   train_loss = 3.055\n",
      "Epoch  47 Batch   30/35   train_loss = 3.077\n",
      "Epoch  48 Batch   20/35   train_loss = 2.909\n",
      "Epoch  49 Batch   10/35   train_loss = 2.938\n",
      "Epoch  50 Batch    0/35   train_loss = 2.790\n",
      "Epoch  50 Batch   25/35   train_loss = 2.717\n",
      "Epoch  51 Batch   15/35   train_loss = 2.734\n",
      "Epoch  52 Batch    5/35   train_loss = 2.707\n",
      "Epoch  52 Batch   30/35   train_loss = 2.671\n",
      "Epoch  53 Batch   20/35   train_loss = 2.546\n",
      "Epoch  54 Batch   10/35   train_loss = 2.581\n",
      "Epoch  55 Batch    0/35   train_loss = 2.576\n",
      "Epoch  55 Batch   25/35   train_loss = 2.510\n",
      "Epoch  56 Batch   15/35   train_loss = 2.421\n",
      "Epoch  57 Batch    5/35   train_loss = 2.512\n",
      "Epoch  57 Batch   30/35   train_loss = 2.458\n",
      "Epoch  58 Batch   20/35   train_loss = 2.285\n",
      "Epoch  59 Batch   10/35   train_loss = 2.384\n",
      "Epoch  60 Batch    0/35   train_loss = 2.328\n",
      "Epoch  60 Batch   25/35   train_loss = 2.298\n",
      "Epoch  61 Batch   15/35   train_loss = 2.173\n",
      "Epoch  62 Batch    5/35   train_loss = 2.226\n",
      "Epoch  62 Batch   30/35   train_loss = 2.239\n",
      "Epoch  63 Batch   20/35   train_loss = 2.116\n",
      "Epoch  64 Batch   10/35   train_loss = 2.114\n",
      "Epoch  65 Batch    0/35   train_loss = 2.125\n",
      "Epoch  65 Batch   25/35   train_loss = 2.039\n",
      "Epoch  66 Batch   15/35   train_loss = 1.940\n",
      "Epoch  67 Batch    5/35   train_loss = 1.992\n",
      "Epoch  67 Batch   30/35   train_loss = 2.017\n",
      "Epoch  68 Batch   20/35   train_loss = 1.875\n",
      "Epoch  69 Batch   10/35   train_loss = 1.946\n",
      "Epoch  70 Batch    0/35   train_loss = 1.928\n",
      "Epoch  70 Batch   25/35   train_loss = 1.843\n",
      "Epoch  71 Batch   15/35   train_loss = 1.765\n",
      "Epoch  72 Batch    5/35   train_loss = 1.828\n",
      "Epoch  72 Batch   30/35   train_loss = 1.911\n",
      "Epoch  73 Batch   20/35   train_loss = 1.695\n",
      "Epoch  74 Batch   10/35   train_loss = 1.802\n",
      "Epoch  75 Batch    0/35   train_loss = 1.797\n",
      "Epoch  75 Batch   25/35   train_loss = 1.657\n",
      "Epoch  76 Batch   15/35   train_loss = 1.592\n",
      "Epoch  77 Batch    5/35   train_loss = 1.694\n",
      "Epoch  77 Batch   30/35   train_loss = 1.651\n",
      "Epoch  78 Batch   20/35   train_loss = 1.525\n",
      "Epoch  79 Batch   10/35   train_loss = 1.652\n",
      "Epoch  80 Batch    0/35   train_loss = 1.621\n",
      "Epoch  80 Batch   25/35   train_loss = 1.526\n",
      "Epoch  81 Batch   15/35   train_loss = 1.507\n",
      "Epoch  82 Batch    5/35   train_loss = 1.552\n",
      "Epoch  82 Batch   30/35   train_loss = 1.525\n",
      "Epoch  83 Batch   20/35   train_loss = 1.417\n",
      "Epoch  84 Batch   10/35   train_loss = 1.523\n",
      "Epoch  85 Batch    0/35   train_loss = 1.522\n",
      "Epoch  85 Batch   25/35   train_loss = 1.456\n",
      "Epoch  86 Batch   15/35   train_loss = 1.445\n",
      "Epoch  87 Batch    5/35   train_loss = 1.421\n",
      "Epoch  87 Batch   30/35   train_loss = 1.450\n",
      "Epoch  88 Batch   20/35   train_loss = 1.346\n",
      "Epoch  89 Batch   10/35   train_loss = 1.442\n",
      "Epoch  90 Batch    0/35   train_loss = 1.518\n",
      "Epoch  90 Batch   25/35   train_loss = 1.286\n",
      "Epoch  91 Batch   15/35   train_loss = 1.326\n",
      "Epoch  92 Batch    5/35   train_loss = 1.354\n",
      "Epoch  92 Batch   30/35   train_loss = 1.399\n",
      "Epoch  93 Batch   20/35   train_loss = 1.197\n",
      "Epoch  94 Batch   10/35   train_loss = 1.329\n",
      "Epoch  95 Batch    0/35   train_loss = 1.314\n",
      "Epoch  95 Batch   25/35   train_loss = 1.208\n",
      "Epoch  96 Batch   15/35   train_loss = 1.172\n",
      "Epoch  97 Batch    5/35   train_loss = 1.173\n",
      "Epoch  97 Batch   30/35   train_loss = 1.241\n",
      "Epoch  98 Batch   20/35   train_loss = 1.197\n",
      "Epoch  99 Batch   10/35   train_loss = 1.161\n",
      "Epoch 100 Batch    0/35   train_loss = 1.169\n",
      "Epoch 100 Batch   25/35   train_loss = 1.201\n",
      "Epoch 101 Batch   15/35   train_loss = 1.170\n",
      "Epoch 102 Batch    5/35   train_loss = 1.071\n",
      "Epoch 102 Batch   30/35   train_loss = 1.202\n",
      "Epoch 103 Batch   20/35   train_loss = 1.086\n",
      "Epoch 104 Batch   10/35   train_loss = 1.090\n",
      "Epoch 105 Batch    0/35   train_loss = 1.108\n",
      "Epoch 105 Batch   25/35   train_loss = 1.047\n",
      "Epoch 106 Batch   15/35   train_loss = 0.995\n",
      "Epoch 107 Batch    5/35   train_loss = 0.936\n",
      "Epoch 107 Batch   30/35   train_loss = 1.008\n",
      "Epoch 108 Batch   20/35   train_loss = 0.911\n",
      "Epoch 109 Batch   10/35   train_loss = 0.974\n",
      "Epoch 110 Batch    0/35   train_loss = 0.953\n",
      "Epoch 110 Batch   25/35   train_loss = 0.945\n",
      "Epoch 111 Batch   15/35   train_loss = 0.869\n",
      "Epoch 112 Batch    5/35   train_loss = 0.877\n",
      "Epoch 112 Batch   30/35   train_loss = 0.936\n",
      "Epoch 113 Batch   20/35   train_loss = 0.827\n",
      "Epoch 114 Batch   10/35   train_loss = 0.873\n",
      "Epoch 115 Batch    0/35   train_loss = 0.904\n",
      "Epoch 115 Batch   25/35   train_loss = 0.872\n",
      "Epoch 116 Batch   15/35   train_loss = 0.837\n",
      "Epoch 117 Batch    5/35   train_loss = 0.787\n",
      "Epoch 117 Batch   30/35   train_loss = 0.945\n",
      "Epoch 118 Batch   20/35   train_loss = 0.814\n",
      "Epoch 119 Batch   10/35   train_loss = 0.808\n",
      "Epoch 120 Batch    0/35   train_loss = 0.896\n",
      "Epoch 120 Batch   25/35   train_loss = 0.855\n",
      "Epoch 121 Batch   15/35   train_loss = 0.829\n",
      "Epoch 122 Batch    5/35   train_loss = 0.787\n",
      "Epoch 122 Batch   30/35   train_loss = 0.906\n",
      "Epoch 123 Batch   20/35   train_loss = 0.774\n",
      "Epoch 124 Batch   10/35   train_loss = 0.811\n",
      "Epoch 125 Batch    0/35   train_loss = 0.928\n",
      "Epoch 125 Batch   25/35   train_loss = 0.895\n",
      "Epoch 126 Batch   15/35   train_loss = 0.812\n",
      "Epoch 127 Batch    5/35   train_loss = 0.813\n",
      "Epoch 127 Batch   30/35   train_loss = 0.940\n",
      "Epoch 128 Batch   20/35   train_loss = 0.808\n",
      "Epoch 129 Batch   10/35   train_loss = 0.836\n",
      "Epoch 130 Batch    0/35   train_loss = 0.903\n"
     ]
    },
    {
     "name": "stdout",
     "output_type": "stream",
     "text": [
      "Epoch 130 Batch   25/35   train_loss = 0.847\n",
      "Epoch 131 Batch   15/35   train_loss = 0.823\n",
      "Epoch 132 Batch    5/35   train_loss = 0.796\n",
      "Epoch 132 Batch   30/35   train_loss = 0.890\n",
      "Epoch 133 Batch   20/35   train_loss = 0.778\n",
      "Epoch 134 Batch   10/35   train_loss = 0.771\n",
      "Epoch 135 Batch    0/35   train_loss = 0.849\n",
      "Epoch 135 Batch   25/35   train_loss = 0.858\n",
      "Epoch 136 Batch   15/35   train_loss = 0.785\n",
      "Epoch 137 Batch    5/35   train_loss = 0.769\n",
      "Epoch 137 Batch   30/35   train_loss = 0.808\n",
      "Epoch 138 Batch   20/35   train_loss = 0.766\n",
      "Epoch 139 Batch   10/35   train_loss = 0.734\n",
      "Epoch 140 Batch    0/35   train_loss = 0.812\n",
      "Epoch 140 Batch   25/35   train_loss = 0.773\n",
      "Epoch 141 Batch   15/35   train_loss = 0.721\n",
      "Epoch 142 Batch    5/35   train_loss = 0.692\n",
      "Epoch 142 Batch   30/35   train_loss = 0.751\n",
      "Epoch 143 Batch   20/35   train_loss = 0.746\n",
      "Epoch 144 Batch   10/35   train_loss = 0.705\n",
      "Epoch 145 Batch    0/35   train_loss = 0.751\n",
      "Epoch 145 Batch   25/35   train_loss = 0.749\n",
      "Epoch 146 Batch   15/35   train_loss = 0.681\n",
      "Epoch 147 Batch    5/35   train_loss = 0.653\n",
      "Epoch 147 Batch   30/35   train_loss = 0.743\n",
      "Epoch 148 Batch   20/35   train_loss = 0.631\n",
      "Epoch 149 Batch   10/35   train_loss = 0.671\n",
      "Model Trained and Saved\n"
     ]
    }
   ],
   "source": [
    "\"\"\"\n",
    "DON'T MODIFY ANYTHING IN THIS CELL\n",
    "\"\"\"\n",
    "batches = get_batches(int_text, batch_size, seq_length)\n",
    "\n",
    "with tf.Session(graph=train_graph) as sess:\n",
    "    sess.run(tf.global_variables_initializer())\n",
    "\n",
    "    for epoch_i in range(num_epochs):\n",
    "        state = sess.run(initial_state, {input_text: batches[0][0]})\n",
    "\n",
    "        for batch_i, (x, y) in enumerate(batches):\n",
    "            feed = {\n",
    "                input_text: x,\n",
    "                targets: y,\n",
    "                initial_state: state,\n",
    "                lr: learning_rate}\n",
    "            train_loss, state, _ = sess.run([cost, final_state, train_op], feed)\n",
    "\n",
    "            # Show every <show_every_n_batches> batches\n",
    "            if (epoch_i * len(batches) + batch_i) % show_every_n_batches == 0:\n",
    "                print('Epoch {:>3} Batch {:>4}/{}   train_loss = {:.3f}'.format(\n",
    "                    epoch_i,\n",
    "                    batch_i,\n",
    "                    len(batches),\n",
    "                    train_loss))\n",
    "\n",
    "    # Save Model\n",
    "    saver = tf.train.Saver()\n",
    "    saver.save(sess, save_dir)\n",
    "    print('Model Trained and Saved')"
   ]
  },
  {
   "cell_type": "markdown",
   "metadata": {},
   "source": [
    "## Save Parameters\n",
    "Save `seq_length` and `save_dir` for generating a new TV script."
   ]
  },
  {
   "cell_type": "code",
   "execution_count": 114,
   "metadata": {
    "collapsed": true
   },
   "outputs": [],
   "source": [
    "\"\"\"\n",
    "DON'T MODIFY ANYTHING IN THIS CELL\n",
    "\"\"\"\n",
    "# Save parameters for checkpoint\n",
    "helper.save_params((seq_length, save_dir))"
   ]
  },
  {
   "cell_type": "markdown",
   "metadata": {},
   "source": [
    "# Checkpoint"
   ]
  },
  {
   "cell_type": "code",
   "execution_count": 115,
   "metadata": {
    "collapsed": true
   },
   "outputs": [],
   "source": [
    "\"\"\"\n",
    "DON'T MODIFY ANYTHING IN THIS CELL\n",
    "\"\"\"\n",
    "import tensorflow as tf\n",
    "import numpy as np\n",
    "import helper\n",
    "import problem_unittests as tests\n",
    "\n",
    "_, vocab_to_int, int_to_vocab, token_dict = helper.load_preprocess()\n",
    "seq_length, load_dir = helper.load_params()"
   ]
  },
  {
   "cell_type": "markdown",
   "metadata": {},
   "source": [
    "## Implement Generate Functions\n",
    "### Get Tensors\n",
    "Get tensors from `loaded_graph` using the function [`get_tensor_by_name()`](https://www.tensorflow.org/api_docs/python/tf/Graph#get_tensor_by_name).  Get the tensors using the following names:\n",
    "- \"input:0\"\n",
    "- \"initial_state:0\"\n",
    "- \"final_state:0\"\n",
    "- \"probs:0\"\n",
    "\n",
    "Return the tensors in the following tuple `(InputTensor, InitialStateTensor, FinalStateTensor, ProbsTensor)` "
   ]
  },
  {
   "cell_type": "code",
   "execution_count": 116,
   "metadata": {},
   "outputs": [
    {
     "name": "stdout",
     "output_type": "stream",
     "text": [
      "Tests Passed\n"
     ]
    }
   ],
   "source": [
    "def get_tensors(loaded_graph):\n",
    "    \"\"\"\n",
    "    Get input, initial state, final state, and probabilities tensor from <loaded_graph>\n",
    "    :param loaded_graph: TensorFlow graph loaded from file\n",
    "    :return: Tuple (InputTensor, InitialStateTensor, FinalStateTensor, ProbsTensor)\n",
    "    \"\"\"\n",
    "    input_tensor = loaded_graph.get_tensor_by_name(\"input:0\")\n",
    "    init_state_tensor = loaded_graph.get_tensor_by_name(\"initial_state:0\")\n",
    "    final_state_tensor = loaded_graph.get_tensor_by_name(\"final_state:0\")\n",
    "    probs_tensor = loaded_graph.get_tensor_by_name(\"probs:0\")\n",
    "    \n",
    "    return input_tensor, init_state_tensor, final_state_tensor, probs_tensor\n",
    "\n",
    "\n",
    "\"\"\"\n",
    "DON'T MODIFY ANYTHING IN THIS CELL THAT IS BELOW THIS LINE\n",
    "\"\"\"\n",
    "tests.test_get_tensors(get_tensors)"
   ]
  },
  {
   "cell_type": "markdown",
   "metadata": {},
   "source": [
    "### Choose Word\n",
    "Implement the `pick_word()` function to select the next word using `probabilities`."
   ]
  },
  {
   "cell_type": "code",
   "execution_count": 117,
   "metadata": {},
   "outputs": [
    {
     "name": "stdout",
     "output_type": "stream",
     "text": [
      "Tests Passed\n"
     ]
    }
   ],
   "source": [
    "def pick_word(probabilities, int_to_vocab):\n",
    "    \"\"\"\n",
    "    Pick the next word in the generated text\n",
    "    :param probabilities: Probabilites of the next word\n",
    "    :param int_to_vocab: Dictionary of word ids as the keys and words as the values\n",
    "    :return: String of the predicted word\n",
    "    \"\"\"\n",
    "    vocab = list(int_to_vocab.values())\n",
    "    \n",
    "    return np.random.choice(vocab, p=probabilities)\n",
    "\n",
    "\n",
    "\"\"\"\n",
    "DON'T MODIFY ANYTHING IN THIS CELL THAT IS BELOW THIS LINE\n",
    "\"\"\"\n",
    "tests.test_pick_word(pick_word)"
   ]
  },
  {
   "cell_type": "markdown",
   "metadata": {},
   "source": [
    "## Generate TV Script\n",
    "This will generate the TV script for you.  Set `gen_length` to the length of TV script you want to generate."
   ]
  },
  {
   "cell_type": "code",
   "execution_count": 118,
   "metadata": {},
   "outputs": [
    {
     "name": "stdout",
     "output_type": "stream",
     "text": [
      "INFO:tensorflow:Restoring parameters from ./save\n",
      "moe_szyslak: homer, can you say i ever say is?\n",
      "homer_simpson:(beligerent) oh, moe.\n",
      "moe_szyslak: the little girl, homer?\n",
      "homer_simpson: moe's tavern, lisa speaking.\n",
      "moe_szyslak: marge wants to go, roz told lisa from all the old couple across drinking.(throws another punch)\n",
      "homer_simpson:(dismissive war from\") moe, what's the kind again. but(scornful) let's tell me like me. i do a couch again. you goin' to the car you didn't be a big day(violin.\n",
      "carl_carlson: why couldn't anyway, i... uh...\n",
      "carl_carlson: ow! / woo!\n",
      "marge_simpson: my name, moe, uh, you always seen\"?\n",
      "homer_simpson: hey! read your hospital!\n",
      "moe_szyslak:(scared) look, lenny, is nothin'.!(cheers homer) hey, it's just as lenny is one alcohol, you sure use one!\n",
      "carl_carlson:(sighs) yeah, get outta here, homer. you got a problem!\n",
      "moe_szyslak: hey!\n"
     ]
    }
   ],
   "source": [
    "gen_length = 200\n",
    "# homer_simpson, moe_szyslak, or Barney_Gumble\n",
    "prime_word = 'moe_szyslak'\n",
    "\n",
    "\"\"\"\n",
    "DON'T MODIFY ANYTHING IN THIS CELL THAT IS BELOW THIS LINE\n",
    "\"\"\"\n",
    "loaded_graph = tf.Graph()\n",
    "with tf.Session(graph=loaded_graph) as sess:\n",
    "    # Load saved model\n",
    "    loader = tf.train.import_meta_graph(load_dir + '.meta')\n",
    "    loader.restore(sess, load_dir)\n",
    "\n",
    "    # Get Tensors from loaded model\n",
    "    input_text, initial_state, final_state, probs = get_tensors(loaded_graph)\n",
    "\n",
    "    # Sentences generation setup\n",
    "    gen_sentences = [prime_word + ':']\n",
    "    prev_state = sess.run(initial_state, {input_text: np.array([[1]])})\n",
    "\n",
    "    # Generate sentences\n",
    "    for n in range(gen_length):\n",
    "        # Dynamic Input\n",
    "        dyn_input = [[vocab_to_int[word] for word in gen_sentences[-seq_length:]]]\n",
    "        dyn_seq_length = len(dyn_input[0])\n",
    "\n",
    "        # Get Prediction\n",
    "        probabilities, prev_state = sess.run(\n",
    "            [probs, final_state],\n",
    "            {input_text: dyn_input, initial_state: prev_state})\n",
    "        \n",
    "        pred_word = pick_word(probabilities[dyn_seq_length-1], int_to_vocab)\n",
    "\n",
    "        gen_sentences.append(pred_word)\n",
    "    \n",
    "    # Remove tokens\n",
    "    tv_script = ' '.join(gen_sentences)\n",
    "    for key, token in token_dict.items():\n",
    "        ending = ' ' if key in ['\\n', '(', '\"'] else ''\n",
    "        tv_script = tv_script.replace(' ' + token.lower(), key)\n",
    "    tv_script = tv_script.replace('\\n ', '\\n')\n",
    "    tv_script = tv_script.replace('( ', '(')\n",
    "        \n",
    "    print(tv_script)"
   ]
  },
  {
   "cell_type": "markdown",
   "metadata": {},
   "source": [
    "# The TV Script is Nonsensical\n",
    "It's ok if the TV script doesn't make any sense.  We trained on less than a megabyte of text.  In order to get good results, you'll have to use a smaller vocabulary or get more data.  Luckly there's more data!  As we mentioned in the begging of this project, this is a subset of [another dataset](https://www.kaggle.com/wcukierski/the-simpsons-by-the-data).  We didn't have you train on all the data, because that would take too long.  However, you are free to train your neural network on all the data.  After you complete the project, of course.\n",
    "# Submitting This Project\n",
    "When submitting this project, make sure to run all the cells before saving the notebook. Save the notebook file as \"dlnd_tv_script_generation.ipynb\" and save it as a HTML file under \"File\" -> \"Download as\". Include the \"helper.py\" and \"problem_unittests.py\" files in your submission."
   ]
  }
 ],
 "metadata": {
  "kernelspec": {
   "display_name": "Python 3",
   "language": "python",
   "name": "python3"
  },
  "language_info": {
   "codemirror_mode": {
    "name": "ipython",
    "version": 3
   },
   "file_extension": ".py",
   "mimetype": "text/x-python",
   "name": "python",
   "nbconvert_exporter": "python",
   "pygments_lexer": "ipython3",
   "version": "3.6.1"
  },
  "widgets": {
   "state": {},
   "version": "1.1.2"
  }
 },
 "nbformat": 4,
 "nbformat_minor": 1
}
